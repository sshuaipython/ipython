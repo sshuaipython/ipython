{
 "cells": [
  {
   "cell_type": "markdown",
   "metadata": {},
   "source": [
    "### 导入pyspark并初始化"
   ]
  },
  {
   "cell_type": "code",
   "execution_count": 1,
   "metadata": {},
   "outputs": [],
   "source": [
    "#初始化\n",
    "from pyspark import SparkConf,SparkContext\n",
    "sc = SparkContext()"
   ]
  },
  {
   "cell_type": "code",
   "execution_count": 2,
   "metadata": {},
   "outputs": [],
   "source": [
    "#创建RDD\n",
    "intRDD = sc.parallelize([3,1,2,5,5])\n",
    "stringRDD = sc.parallelize(['Apple','Orange','Grape','Banana','Apple'])"
   ]
  },
  {
   "cell_type": "code",
   "execution_count": 3,
   "metadata": {},
   "outputs": [
    {
     "name": "stdout",
     "output_type": "stream",
     "text": [
      "[3, 1, 2, 5, 5]\n",
      "['Apple', 'Orange', 'Grape', 'Banana', 'Apple']\n"
     ]
    }
   ],
   "source": [
    "print (intRDD.collect())\n",
    "print (stringRDD.collect())"
   ]
  },
  {
   "cell_type": "markdown",
   "metadata": {},
   "source": [
    "### map运算"
   ]
  },
  {
   "cell_type": "code",
   "execution_count": 5,
   "metadata": {},
   "outputs": [
    {
     "name": "stdout",
     "output_type": "stream",
     "text": [
      "[4, 2, 3, 6, 6]\n"
     ]
    }
   ],
   "source": [
    "print(intRDD.map(lambda x:x+1).collect())"
   ]
  },
  {
   "cell_type": "markdown",
   "metadata": {},
   "source": [
    "### filter运算\n",
    "filter运算对RDD内每一个元素进行筛选，并产生另一个RDD"
   ]
  },
  {
   "cell_type": "code",
   "execution_count": 9,
   "metadata": {},
   "outputs": [
    {
     "name": "stdout",
     "output_type": "stream",
     "text": [
      "[1, 2]\n",
      "['Orange', 'Grape']\n"
     ]
    }
   ],
   "source": [
    "print (intRDD.filter(lambda x: x<3).collect())\n",
    "print (stringRDD.filter(lambda x:'ra' in x).collect())"
   ]
  },
  {
   "cell_type": "markdown",
   "metadata": {},
   "source": [
    "### distinct运算\n",
    "删除重复的元素"
   ]
  },
  {
   "cell_type": "code",
   "execution_count": 12,
   "metadata": {},
   "outputs": [
    {
     "name": "stdout",
     "output_type": "stream",
     "text": [
      "[1, 5, 2, 3]\n"
     ]
    }
   ],
   "source": [
    "print(intRDD.distinct().collect())"
   ]
  },
  {
   "cell_type": "markdown",
   "metadata": {},
   "source": [
    "### random split\n",
    "按照比例将随机数进行切分"
   ]
  },
  {
   "cell_type": "code",
   "execution_count": 13,
   "metadata": {},
   "outputs": [
    {
     "name": "stdout",
     "output_type": "stream",
     "text": [
      "2\n",
      "[3] [1, 2, 5, 5]\n"
     ]
    }
   ],
   "source": [
    "sRDD = intRDD.randomSplit([0.4,0.6])\n",
    "print(len(sRDD))\n",
    "print(sRDD[0].collect(),sRDD[1].collect())"
   ]
  },
  {
   "cell_type": "markdown",
   "metadata": {},
   "source": [
    "### groupBy  agg\n",
    "聚合函数"
   ]
  },
  {
   "cell_type": "code",
   "execution_count": 14,
   "metadata": {},
   "outputs": [
    {
     "name": "stdout",
     "output_type": "stream",
     "text": [
      "[(0, [2]), (1, [1, 3, 5, 5])]\n"
     ]
    }
   ],
   "source": [
    "result = intRDD.groupBy(lambda x : x % 2).collect()\n",
    "print (sorted([(x, sorted(y)) for (x, y) in result]))"
   ]
  },
  {
   "cell_type": "markdown",
   "metadata": {},
   "source": [
    "### 多个RDD运算"
   ]
  },
  {
   "cell_type": "code",
   "execution_count": 15,
   "metadata": {},
   "outputs": [],
   "source": [
    "intRDD1 = sc.parallelize([3,1,2,5,5])\n",
    "intRDD2 = sc.parallelize([5,6])\n",
    "intRDD3 = sc.parallelize([2,7])"
   ]
  },
  {
   "cell_type": "code",
   "execution_count": 19,
   "metadata": {},
   "outputs": [
    {
     "name": "stdout",
     "output_type": "stream",
     "text": [
      "[3, 1, 2, 5, 5, 5, 6, 2, 7]\n"
     ]
    }
   ],
   "source": [
    "#并集运算\n",
    "print (intRDD1.union(intRDD2).union(intRDD3).collect())"
   ]
  },
  {
   "cell_type": "code",
   "execution_count": 20,
   "metadata": {},
   "outputs": [
    {
     "name": "stdout",
     "output_type": "stream",
     "text": [
      "[5]\n"
     ]
    }
   ],
   "source": [
    "#交集预算\n",
    "print (intRDD1.intersection(intRDD2).collect())"
   ]
  },
  {
   "cell_type": "code",
   "execution_count": 21,
   "metadata": {},
   "outputs": [
    {
     "name": "stdout",
     "output_type": "stream",
     "text": [
      "[1, 2, 3]\n"
     ]
    }
   ],
   "source": [
    "#差集运算\n",
    "print(intRDD1.subtract(intRDD2).collect())"
   ]
  },
  {
   "cell_type": "code",
   "execution_count": 22,
   "metadata": {},
   "outputs": [
    {
     "name": "stdout",
     "output_type": "stream",
     "text": [
      "[(3, 5), (3, 6), (1, 5), (1, 6), (2, 5), (2, 6), (5, 5), (5, 5), (5, 6), (5, 6)]\n"
     ]
    }
   ],
   "source": [
    "#笛卡尔积运算\n",
    "print (intRDD1.cartesian(intRDD2).collect())"
   ]
  },
  {
   "cell_type": "markdown",
   "metadata": {},
   "source": [
    "### 基本动作运算"
   ]
  },
  {
   "cell_type": "markdown",
   "metadata": {},
   "source": [
    "#### \n",
    "读取元素，Action运算所以会马上执行"
   ]
  },
  {
   "cell_type": "code",
   "execution_count": 25,
   "metadata": {},
   "outputs": [
    {
     "name": "stdout",
     "output_type": "stream",
     "text": [
      "3\n",
      "[3, 1]\n",
      "[1, 2, 3]\n",
      "[5, 5, 3]\n"
     ]
    }
   ],
   "source": [
    "#读取第一条数据\n",
    "print(intRDD.first())\n",
    "#取前2条数据\n",
    "print(intRDD.take(2))\n",
    "#取前三条，并升序排列\n",
    "print(intRDD.takeOrdered(3))\n",
    "#取前三条并降序排列\n",
    "print(intRDD.takeOrdered(3,lambda x:-x))"
   ]
  },
  {
   "cell_type": "code",
   "execution_count": 26,
   "metadata": {},
   "outputs": [
    {
     "name": "stdout",
     "output_type": "stream",
     "text": [
      "(count: 5, mean: 3.2, stdev: 1.6, max: 5.0, min: 1.0)\n",
      "1\n",
      "5\n",
      "1.6\n",
      "5\n",
      "16\n",
      "3.2\n"
     ]
    }
   ],
   "source": [
    "#统计功能\n",
    "#统计\n",
    "print (intRDD.stats())\n",
    "#最小值\n",
    "print (intRDD.min())\n",
    "#最大值\n",
    "print (intRDD.max())\n",
    "#标准差\n",
    "print (intRDD.stdev())\n",
    "#计数\n",
    "print (intRDD.count())\n",
    "#求和\n",
    "print (intRDD.sum())\n",
    "#平均\n",
    "print (intRDD.mean())"
   ]
  },
  {
   "cell_type": "markdown",
   "metadata": {},
   "source": [
    "### RDD Key-Val 基本转换操作  "
   ]
  },
  {
   "cell_type": "code",
   "execution_count": 27,
   "metadata": {},
   "outputs": [],
   "source": [
    "#初始化\n",
    "kvRDD1 = sc.parallelize([(3,4),(3,6),(5,6),(1,2)])"
   ]
  },
  {
   "cell_type": "code",
   "execution_count": 30,
   "metadata": {},
   "outputs": [
    {
     "name": "stdout",
     "output_type": "stream",
     "text": [
      "[3, 3, 5, 1]\n"
     ]
    }
   ],
   "source": [
    "#得到key，和value\n",
    "print(kvRDD1.keys().collect())\n",
    "#print(kvEDD1.keys().collect())"
   ]
  },
  {
   "cell_type": "code",
   "execution_count": 32,
   "metadata": {},
   "outputs": [
    {
     "name": "stdout",
     "output_type": "stream",
     "text": [
      "[(3, 4), (3, 6), (1, 2)]\n",
      "[(3, 4), (1, 2)]\n"
     ]
    }
   ],
   "source": [
    "#筛选元素\n",
    "print (kvRDD1.filter(lambda x:x[0] < 5).collect())\n",
    "print (kvRDD1.filter(lambda x:x[1] < 5).collect())"
   ]
  },
  {
   "cell_type": "code",
   "execution_count": 33,
   "metadata": {},
   "outputs": [
    {
     "name": "stdout",
     "output_type": "stream",
     "text": [
      "[(3, 16), (3, 36), (5, 36), (1, 4)]\n"
     ]
    }
   ],
   "source": [
    "#值运算mapValues\n",
    "print (kvRDD1.mapValues(lambda x:x**2).collect())"
   ]
  },
  {
   "cell_type": "code",
   "execution_count": 34,
   "metadata": {},
   "outputs": [
    {
     "name": "stdout",
     "output_type": "stream",
     "text": [
      "[(1, 2), (3, 4), (3, 6), (5, 6)]\n",
      "[(1, 2), (3, 4), (3, 6), (5, 6)]\n",
      "[(5, 6), (3, 4), (3, 6), (1, 2)]\n"
     ]
    }
   ],
   "source": [
    "#按key使用sortBYKey进行排序  默认升序\n",
    "print (kvRDD1.sortByKey().collect())\n",
    "print (kvRDD1.sortByKey(True).collect())\n",
    "print (kvRDD1.sortByKey(False).collect())"
   ]
  },
  {
   "cell_type": "code",
   "execution_count": 35,
   "metadata": {},
   "outputs": [
    {
     "name": "stdout",
     "output_type": "stream",
     "text": [
      "[(5, 6), (1, 2), (3, 10)]\n"
     ]
    }
   ],
   "source": [
    "#合并key值的数据\n",
    "#使用reduceByKey可以对相同key的值进行合并\n",
    "print (kvRDD1.reduceByKey(lambda x,y:x+y).collect())"
   ]
  },
  {
   "cell_type": "markdown",
   "metadata": {},
   "source": [
    "### 多个RDD key-value转换运算·"
   ]
  },
  {
   "cell_type": "code",
   "execution_count": 36,
   "metadata": {},
   "outputs": [],
   "source": [
    "kvRDD1 = sc.parallelize([(3,4),(3,6),(5,6),(1,2)])\n",
    "kvRDD2 = sc.parallelize([(3,8)])"
   ]
  },
  {
   "cell_type": "code",
   "execution_count": 37,
   "metadata": {},
   "outputs": [
    {
     "name": "stdout",
     "output_type": "stream",
     "text": [
      "[(3, (4, 8)), (3, (6, 8))]\n"
     ]
    }
   ],
   "source": [
    "#内连接运算\n",
    "#将两个RDD按照相同的key值join起来\n",
    "print (kvRDD1.join(kvRDD2).collect())"
   ]
  },
  {
   "cell_type": "code",
   "execution_count": null,
   "metadata": {},
   "outputs": [],
   "source": [
    "#左外连接左边元素全显示，右边没有的显示NOne\n",
    "print (kvRDD1.leftOuterJoin(kvRDD2).collect())"
   ]
  },
  {
   "cell_type": "code",
   "execution_count": 40,
   "metadata": {},
   "outputs": [
    {
     "name": "stdout",
     "output_type": "stream",
     "text": [
      "[(3, (4, 8)), (3, (6, 8))]\n"
     ]
    }
   ],
   "source": [
    "#右外连接，右边元素全显示，左边元素没有显示None\n",
    "print(kvRDD1.rightOuterJoin(kvRDD2).collect())"
   ]
  },
  {
   "cell_type": "code",
   "execution_count": 41,
   "metadata": {},
   "outputs": [
    {
     "name": "stdout",
     "output_type": "stream",
     "text": [
      "[(1, 2), (5, 6)]\n"
     ]
    }
   ],
   "source": [
    "#删除相同key值的数据\n",
    "#使用函数subtractByKey\n",
    "print (kvRDD1.subtractByKey(kvRDD2).collect())"
   ]
  },
  {
   "cell_type": "markdown",
   "metadata": {},
   "source": [
    "### key-val动作操作"
   ]
  },
  {
   "cell_type": "code",
   "execution_count": 45,
   "metadata": {},
   "outputs": [
    {
     "name": "stdout",
     "output_type": "stream",
     "text": [
      "defaultdict(<class 'int'>, {3: 2, 5: 1, 1: 1})\n"
     ]
    }
   ],
   "source": [
    "#按key值统计\n",
    "#使用countByKey可以统计各个key的元素个数\n",
    "print (kvRDD1.countByKey())"
   ]
  },
  {
   "cell_type": "code",
   "execution_count": 46,
   "metadata": {},
   "outputs": [
    {
     "name": "stdout",
     "output_type": "stream",
     "text": [
      "[4, 6]\n"
     ]
    }
   ],
   "source": [
    "#lookup查找函数\n",
    "print (kvRDD1.lookup(3))"
   ]
  },
  {
   "cell_type": "code",
   "execution_count": null,
   "metadata": {},
   "outputs": [],
   "source": [
    "i."
   ]
  }
 ],
 "metadata": {
  "kernelspec": {
   "display_name": "Python 3",
   "language": "python",
   "name": "python3"
  },
  "language_info": {
   "codemirror_mode": {
    "name": "ipython",
    "version": 3
   },
   "file_extension": ".py",
   "mimetype": "text/x-python",
   "name": "python",
   "nbconvert_exporter": "python",
   "pygments_lexer": "ipython3",
   "version": "3.6.5"
  }
 },
 "nbformat": 4,
 "nbformat_minor": 2
}
