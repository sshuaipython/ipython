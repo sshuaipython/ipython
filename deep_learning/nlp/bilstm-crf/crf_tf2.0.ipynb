{
 "cells": [
  {
   "cell_type": "markdown",
   "metadata": {},
   "source": [
    "# crf条件随机场TF2.0实现"
   ]
  },
  {
   "cell_type": "code",
   "execution_count": 4,
   "metadata": {},
   "outputs": [],
   "source": [
    "import tensorflow_addons as tfa\n",
    "import tensorflow as tf\n",
    "import numpy as np"
   ]
  },
  {
   "cell_type": "code",
   "execution_count": 6,
   "metadata": {},
   "outputs": [
    {
     "name": "stdout",
     "output_type": "stream",
     "text": [
      "inputs tf.Tensor(\n",
      "[[[-0.24237518  1.2641362   1.3636712   1.8167077  -0.33303598]\n",
      "  [-0.1470257   1.8658403  -0.15868032  0.3246955   0.73701763]\n",
      "  [-0.9393096   1.2122188  -0.35139388  0.12431969 -1.2325217 ]\n",
      "  [ 0.14628626 -1.4642243   1.468464    1.2341481   1.7579855 ]\n",
      "  [ 0.0264452   0.5828828  -0.7979244   1.2174355   0.6484906 ]\n",
      "  [ 1.5755994  -0.13536716  0.08630986  0.5481468  -1.3100848 ]\n",
      "  [ 0.37212893 -0.4761124  -0.72802234  0.33704305 -0.72596633]\n",
      "  [ 0.19393633 -1.6006052   1.7110336   0.03406042  1.4534571 ]\n",
      "  [-0.45074388 -0.9721942   0.12382977 -0.6720943  -0.1184278 ]\n",
      "  [-0.7670066  -0.04397529 -0.5679411  -0.22970252  0.37673706]]\n",
      "\n",
      " [[ 1.3064348   0.30537656 -0.5313072  -1.7366171   0.9162978 ]\n",
      "  [ 1.0832168  -0.56690544  1.6693429   0.80721164 -0.8886017 ]\n",
      "  [-0.7115253  -0.13968538 -0.11179686  0.33724812  0.29803425]\n",
      "  [ 1.2274717  -1.15741    -0.00691201 -0.62221175 -0.33944866]\n",
      "  [-0.6943355   0.38990042  0.76180094 -0.57023096  1.1261048 ]\n",
      "  [ 0.79076797 -0.34843478  0.28083614 -1.0499847   0.2049584 ]\n",
      "  [ 1.3997443  -1.152984   -1.1023349   0.02245296 -0.6967864 ]\n",
      "  [ 1.6659725  -0.35503843 -0.16882451 -0.5269905  -0.5129217 ]\n",
      "  [-0.06374806  0.26625407  0.3151668   0.11005918  1.1057699 ]\n",
      "  [-0.7202971  -0.36546507 -0.8941324  -0.58002996  0.7270079 ]]], shape=(2, 10, 5), dtype=float32)\n",
      "target tf.Tensor(\n",
      "[[1 3 3 3 1 0 0 1 4 1]\n",
      " [3 4 3 2 4 4 1 0 4 0]], shape=(2, 10), dtype=int32)\n"
     ]
    }
   ],
   "source": [
    "inputs  =tf.random.truncated_normal([2,10,5])\n",
    "target = tf.convert_to_tensor(np.random.randint(5,size=(2,10)),dtype=tf.int32)\n",
    "print('inputs',inputs)\n",
    "print('target',target)"
   ]
  },
  {
   "cell_type": "code",
   "execution_count": 7,
   "metadata": {},
   "outputs": [
    {
     "name": "stdout",
     "output_type": "stream",
     "text": [
      "out <tensorflow.python.keras.layers.advanced_activations.Softmax object at 0x000002746CF1C4E0>\n",
      "lens tf.Tensor([9 6], shape=(2,), dtype=int32)\n"
     ]
    }
   ],
   "source": [
    "out = tf.keras.layers.Softmax(inputs)\n",
    "print('out',out)\n",
    "lens = tf.convert_to_tensor([9,6],dtype=tf.int32)\n",
    "print('lens',lens)"
   ]
  },
  {
   "cell_type": "code",
   "execution_count": 8,
   "metadata": {},
   "outputs": [
    {
     "name": "stdout",
     "output_type": "stream",
     "text": [
      "log_likelihood tf.Tensor([-16.168137 -13.354148], shape=(2,), dtype=float32)\n",
      "tran_paras <tf.Variable 'Variable:0' shape=(5, 5) dtype=float32, numpy=\n",
      "array([[ 0.6348388 , -0.25576293, -0.6192871 , -0.0603593 ,  0.11227125],\n",
      "       [ 0.68271875, -0.11100715,  0.3013221 ,  0.08545876, -0.5414578 ],\n",
      "       [-0.06528264,  0.4829855 ,  0.4328134 ,  0.6456187 ,  0.5721227 ],\n",
      "       [-0.15964991,  0.46252346, -0.07468534, -0.36722586, -0.23964864],\n",
      "       [-0.11715508,  0.6361717 , -0.77281106, -0.21178311, -0.2206111 ]],\n",
      "      dtype=float32)>\n",
      "batch_pred_sequence tf.Tensor(\n",
      "[[3 1 1 2 1 0 0 2 2 2]\n",
      " [0 0 0 0 4 0 4 4 4 4]], shape=(2, 10), dtype=int32)\n",
      "batch_viterbi_score tf.Tensor([12.995613   6.7221036], shape=(2,), dtype=float32)\n"
     ]
    }
   ],
   "source": [
    "log_likelihood,tran_paras = tfa.text.crf_log_likelihood(inputs,target,lens)\n",
    "print('log_likelihood',log_likelihood)\n",
    "print('tran_paras',tran_paras)\n",
    "batch_pred_sequence,batch_viterbi_score = tfa.text.crf_decode(inputs,tran_paras,lens)\n",
    "print('batch_pred_sequence',batch_pred_sequence)\n",
    "print('batch_viterbi_score',batch_viterbi_score)"
   ]
  },
  {
   "cell_type": "code",
   "execution_count": 9,
   "metadata": {},
   "outputs": [
    {
     "name": "stdout",
     "output_type": "stream",
     "text": [
      "loss tf.Tensor(29.522285, shape=(), dtype=float32)\n"
     ]
    }
   ],
   "source": [
    "loss = tf.reduce_sum(-log_likelihood)\n",
    "print('loss',loss)"
   ]
  },
  {
   "cell_type": "code",
   "execution_count": null,
   "metadata": {},
   "outputs": [],
   "source": []
  },
  {
   "cell_type": "code",
   "execution_count": null,
   "metadata": {},
   "outputs": [],
   "source": []
  }
 ],
 "metadata": {
  "kernelspec": {
   "display_name": "Python 3",
   "language": "python",
   "name": "python3"
  },
  "language_info": {
   "codemirror_mode": {
    "name": "ipython",
    "version": 3
   },
   "file_extension": ".py",
   "mimetype": "text/x-python",
   "name": "python",
   "nbconvert_exporter": "python",
   "pygments_lexer": "ipython3",
   "version": "3.6.5"
  }
 },
 "nbformat": 4,
 "nbformat_minor": 2
}
