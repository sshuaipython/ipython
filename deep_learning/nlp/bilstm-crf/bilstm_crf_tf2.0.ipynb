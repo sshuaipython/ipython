{
 "cells": [
  {
   "cell_type": "code",
   "execution_count": null,
   "metadata": {},
   "outputs": [],
   "source": [
    "import tensorflow as tf\n",
    "import tensorflow_addons as tfa\n",
    "import numpy as np\n",
    "import tqdm\n",
    "from tensorflow.keras.models import Sequential\n",
    "from tensorflow.keras.callbacks import TensorBoard\n",
    "from tensorflow_addons.layers import CRF"
   ]
  },
  {
   "cell_type": "code",
   "execution_count": null,
   "metadata": {},
   "outputs": [],
   "source": [
    "class MyBiLSTMCRF:\n",
    "    def __init__(self,vocabSize,maxLen,tagIndexDict,tagSum,sequenceLength=None,vecSize=100):\n",
    "        self.vocabSize = vocabSize\n",
    "        self.vecSize = vecSize\n",
    "        self.maxLen = maxLen\n",
    "        self.tagSum = tagSum\n",
    "        self.tagIndexDict = tagIndexDict\n",
    "        self.sequenceLength = sequenceLength\n",
    "        self.buildBiLSTMCRF()\n",
    "    \n",
    "    def getTransParam(self,y,tagIndexDict):\n",
    "        self.trainY = y\n",
    "        yList = self.trainY.tolist()\n",
    "        transParam = np.zeros([len(list(tagIndexDict.keys())),len(list(tagIndexDict.keys()))])\n",
    "        for rowI in range(len(yList)):\n",
    "            for colI in range(len(yList[rowI])-1):\n",
    "                transParam[yList[rowI][colI]] [yList[rowI][colI+1]]+=1\n",
    "        for rowI in range(transParam.shape[0]):\n",
    "            transParam[rowI]=transParam[rowI]/np.sum(transParam[rowI])\n",
    "        return transParam\n",
    "    \n",
    "    def buildBiLSTMCRF(self):\n",
    "        myModel = Sequential()\n",
    "        myModel.add(tf.keras.layers.Input(shape=(self.maxLen,)))\n",
    "        myModel.add(tf.keras.layers.Embedding(self.vocabSize,self.vecSize))\n",
    "        myModel.add(tf.keras.layers.Bidirectional(tf.keras.layers.LSTM(\n",
    "            self.tagSum,return_sequences=true,activation=\"tanh\"),merge_mode='sum'))\n",
    "        myModel.add(tf.keras.layers.Bidirectional(tf.keras.layers.LSTM(\n",
    "            self.tagSum,return_sequences=true,activation=\"softmax\"),merge_mode='sum'))\n",
    "        crf = CRF(self.tagSum,name='crf_layer')\n",
    "        myModel.add(crf)\n",
    "        myModel.compile('adam',loss={'crf_layer':crf.get_loss})\n",
    "        self.myBiLSTMCRF = myModel\n",
    "        \n",
    "    def fit(self,x,y,epochs=100,transParam=None):\n",
    "        if len(y.shape)==3:\n",
    "            y=np.argmax(y,axis=-1)\n",
    "        if self.sequenceLength is None:\n",
    "            self.sequenceLength=[row.shape[0] for row in y]\n",
    "        self.transParam = self.getTransParam(y,self,tagIndexDict)\n",
    "        log_dir = \"logs\"\n",
    "        tensorboard_callback = TensorBoard(log_dir=log_dir,histogram_freq=1)\n",
    "        history = self.myBiLSTMCRF.fit(x,y,epochs=epochs,callbacks=[tensorboard_callback])\n",
    "        return history\n",
    "        \n",
    "    def predict(self,x):\n",
    "        preArry = self.myBiLSTMCRF.predict(x)\n",
    "        return preArry"
   ]
  },
  {
   "cell_type": "code",
   "execution_count": null,
   "metadata": {},
   "outputs": [],
   "source": [
    "myModel = MyBiLSTMCRF(vocabsize#词汇量，maxLen#序列最大长度，tagIndexDict#标签序号词典，tagsum#标签总数，sequencelengths#序列长list))\n",
    "#https://github.com/Timaos123/BiLSTM-CRF                    "
   ]
  }
 ],
 "metadata": {
  "kernelspec": {
   "display_name": "Python 3",
   "language": "python",
   "name": "python3"
  },
  "language_info": {
   "codemirror_mode": {
    "name": "ipython",
    "version": 3
   },
   "file_extension": ".py",
   "mimetype": "text/x-python",
   "name": "python",
   "nbconvert_exporter": "python",
   "pygments_lexer": "ipython3",
   "version": "3.6.5"
  }
 },
 "nbformat": 4,
 "nbformat_minor": 2
}
