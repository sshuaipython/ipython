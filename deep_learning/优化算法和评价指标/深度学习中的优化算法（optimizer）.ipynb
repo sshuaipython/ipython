{
 "cells": [
  {
   "attachments": {
    "image.png": {
     "image/png": "[encoded data removed]"
    }
   },
   "cell_type": "markdown",
   "metadata": {},
   "source": [
    "# SGD随机梯度下降  \n",
    "\n",
    "每一个参数按照梯度的方向减小以追求最小化损失函数  \n",
    "    ![image.png](attachment:image.png)"
   ]
  },
  {
   "cell_type": "code",
   "execution_count": 1,
   "metadata": {},
   "outputs": [],
   "source": [
    "#python实现\n",
    "\n",
    "class SGD:\n",
    "    def __init__(self, lr=0.01):\n",
    "        self.lr = lr\n",
    "        \n",
    "    def update(self,params,grads):\n",
    "        for key in params.keys():\n",
    "            params[key] -= self.lr*grads[key]"
   ]
  },
  {
   "attachments": {
    "image.png": {
     "image/png": "[encoded data removed]"
    }
   },
   "cell_type": "markdown",
   "metadata": {},
   "source": [
    "# Momentum  \n",
    "\n",
    "在梯度下降过程中加入了动量，即前面的梯度会影响本轮的梯度方向  \n",
    "\n",
    "更新方式：  \n",
    "    ![image.png](attachment:image.png)"
   ]
  },
  {
   "cell_type": "code",
   "execution_count": 2,
   "metadata": {},
   "outputs": [],
   "source": [
    "#Python实现\n",
    "\n",
    "class Momentum:\n",
    "    def __init__(self, lr=0.01, momentum=0.9):\n",
    "        self.lr = lr\n",
    "        self.momentum = momentum\n",
    "        self.v = None\n",
    "    \n",
    "    def update(self, params, grads):\n",
    "        if self.v is None:\n",
    "            self.v = {}\n",
    "            for key,val in params.items():\n",
    "                self.v[key] = np.zeros_like(val)\n",
    "            \n",
    "        for key in params.keys():\n",
    "            self.v[key] = self.momentum*self.v[key] - self.lr*grads[key]\n",
    "            params[key] += self.v[key]"
   ]
  },
  {
   "attachments": {
    "image.png": {
     "image/png": "[encoded data removed]"
    }
   },
   "cell_type": "markdown",
   "metadata": {},
   "source": [
    "# Nestrov  \n",
    "Nestrov也是一种动量更新的方式，但为了加速收敛，提前按照之前的动量走了  \n",
    "一步，然后求导按照梯度在走一步  \n",
    "更新方式：  \n",
    "![image.png](attachment:image.png)"
   ]
  },
  {
   "attachments": {
    "image.png": {
     "image/png": "[encoded data removed]"
    }
   },
   "cell_type": "markdown",
   "metadata": {},
   "source": [
    "# AdaGrad  \n",
    "动量法旨在通过每个参数，在之前的迭代中的梯度，来改变当前位置参数的梯度  \n",
    "在梯度稳定的地方能够加速更新的速度，在梯度不稳定的地方能够文档梯度  \n",
    "\n",
    "而AdaGrad则是一种不同的思路，他是一种自适应优化算法，它通过每个参数的历史梯度，动太  \n",
    "更新每一个参数的学习率，使得每个参数的更新率都能够逐渐减少，前期梯度大的，学习率减少的  \n",
    "快，梯度小的，学习率减少的慢些  \n",
    "![image.png](attachment:image.png)"
   ]
  },
  {
   "cell_type": "code",
   "execution_count": 3,
   "metadata": {},
   "outputs": [],
   "source": [
    "#Python实现\n",
    "\n",
    "class AdaGrad:\n",
    "    def __init__(self,lr=0.01):\n",
    "        self.lr = lr\n",
    "        self.h = h\n",
    "    \n",
    "    def update(self, params,grads):\n",
    "        if self.h is None:\n",
    "            self.h = {}\n",
    "            for key,val in params.items():\n",
    "                self.h[key] = np.zeros_like(val)\n",
    "        \n",
    "        for key in params.keys():\n",
    "            self.h[key] += grads[key]*grads[key]\n",
    "            params[key] -= self.lr*grads[key]/(np.sqrt(self.h[key]) + 1e-7)"
   ]
  },
  {
   "attachments": {
    "image.png": {
     "image/png": "[encoded data removed]"
    }
   },
   "cell_type": "markdown",
   "metadata": {},
   "source": [
    "# RMSprop  \n",
    "AdaGrad有个问题，那就是学习率会不断的衰减，这样就使得很多任务在达到最优解之前  \n",
    "学习率就已经过量减小，所以RMSprop采用指数衰减平均来慢慢丢掉先前的梯度历史  \n",
    "更新过程为：  \n",
    "![image.png](attachment:image.png)"
   ]
  },
  {
   "cell_type": "code",
   "execution_count": 5,
   "metadata": {},
   "outputs": [],
   "source": [
    "#python实现\n",
    "\n",
    "class RMSprop:\n",
    "    def __init__(self, lr=0.01, decay_rate=0.99):\n",
    "        self.lr = lr\n",
    "        self.decay_rate = decay_rate\n",
    "        self.h = None\n",
    "    \n",
    "    def update(self,params,grads):\n",
    "        if self.h is None:\n",
    "            self.h = {}\n",
    "            for key,val in params.items():\n",
    "                self.h[key] = np.zeros_like(val)\n",
    "        \n",
    "        for key in params.keys():\n",
    "            self.h[key] *= self.decay_rate\n",
    "            self.h[key] += (1-self.decay_rate)*grads[key]*grads[key]\n",
    "            params[key] -= self.lr*grads[key]/(np.sqrt(self.h[key]) + 1e-7)"
   ]
  },
  {
   "cell_type": "markdown",
   "metadata": {},
   "source": [
    "# Adam  \n",
    "Adam方法结合动量和自适应，同时对学习率和梯度进行动态调整，如果说，动量相当于  \n",
    "给优化过程增加了惯性，自适应相当于给优化过程增加了阻力，速度越快，阻力也会越大  \n",
    "\n",
    "Adam首先计算了梯度的一阶矩估计和二阶矩估计，分别代表原来的动量和自适应部分  \n",
    "![title](https://pic2.zhimg.com/80/v2-06b3014d11c491c2aa1354a0ae19a41d_720w.jpg)\n",
    "\n",
    "β_1 与 β_2 是两个特有的超参数，一般设为0.9和0.999  \n",
    "\n",
    "对计算出的矩估计进行修正  \n",
    "![title](https://pic2.zhimg.com/80/v2-3cf005d6791897e1e5ad0f22a26b1725_720w.png)\n",
    "\n",
    "简单来说就是由于m和v的初始值为0，所以第一轮的时候会非常偏向于第二项，那么在后面计算更新值的时候  \n",
    "根据β_1 与 β_2的初始值来看就非常大，需要将其修正回来，根据β_1 与 β_2，所以如果不修正，对于\n",
    "最初的几次迭代会有很严重的影响；  \n",
    "最后就是更新参数值：  \n",
    "![title](https://pic4.zhimg.com/80/v2-f53a4adfd92b5ebbb949be8be68dc7d7_720w.png)"
   ]
  },
  {
   "cell_type": "code",
   "execution_count": 6,
   "metadata": {},
   "outputs": [],
   "source": [
    "#Python实现\n",
    "\n",
    "class Adam:\n",
    "    def __init__(self, lr=0.001, beta1=0.9,beta2=0.999):\n",
    "        self.lr = lr\n",
    "        self.beta1 = beta1\n",
    "        self.beta2  = beta2\n",
    "        self.iter = 0\n",
    "        self.m = None\n",
    "        self.v = None\n",
    "    \n",
    "    def update(self,params,grads):\n",
    "        if self.m is None:\n",
    "            self.m,self.v = {},{}\n",
    "            for key, val in parasm.items():\n",
    "                self.m[key] = np.zero_like(val)\n",
    "                self.v[key] = np.zeros_like(val)\n",
    "        \n",
    "        self.iter += 1\n",
    "        lr_t = self.lr * np.sqrt(1.0-self.beta2**self.iter)/(1.0 - self.beta1**self.iter)\n",
    "        for key in params.keys():\n",
    "            self.m[key] += (1-self.beta1)*(grads[key]-self.m[key])\n",
    "            self.v[key] += (1-self.beta2)*(grads[key]**2) - self.v[key]\n",
    "            \n",
    "            params[key] -=lr_t * self.m[key] / (np.sqrt(self.v[key])+1e-7)"
   ]
  }
 ],
 "metadata": {
  "kernelspec": {
   "display_name": "Python 3",
   "language": "python",
   "name": "python3"
  },
  "language_info": {
   "codemirror_mode": {
    "name": "ipython",
    "version": 3
   },
   "file_extension": ".py",
   "mimetype": "text/x-python",
   "name": "python",
   "nbconvert_exporter": "python",
   "pygments_lexer": "ipython3",
   "version": "3.6.5"
  }
 },
 "nbformat": 4,
 "nbformat_minor": 2
}
